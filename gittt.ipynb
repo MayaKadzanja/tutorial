{
 "cells": [
  {
   "cell_type": "code",
   "execution_count": 1,
   "id": "928af2e4",
   "metadata": {},
   "outputs": [],
   "source": [
    "#a program to enter user ndetails"
   ]
  },
  {
   "cell_type": "code",
   "execution_count": 2,
   "id": "32750f33",
   "metadata": {},
   "outputs": [
    {
     "name": "stdout",
     "output_type": "stream",
     "text": [
      "Hello, what is your name: Mayamiko\n",
      "Please enter your age: 21\n",
      "Male/Female/other: Male\n"
     ]
    }
   ],
   "source": [
    "name = input('Hello, what is your name: ')\n",
    "age = input('Please enter your age: ')\n",
    "sex = input('Male/Female/other: ')"
   ]
  },
  {
   "cell_type": "code",
   "execution_count": 4,
   "id": "da832f53",
   "metadata": {},
   "outputs": [
    {
     "name": "stdout",
     "output_type": "stream",
     "text": [
      "Thank you Mayamiko, Welcome to my simple python project\n"
     ]
    }
   ],
   "source": [
    "print('Thank you '+ name +\", Welcome to my simple python project.\")"
   ]
  },
  {
   "cell_type": "code",
   "execution_count": null,
   "id": "ee130c0a",
   "metadata": {},
   "outputs": [],
   "source": []
  }
 ],
 "metadata": {
  "kernelspec": {
   "display_name": "Python 3",
   "language": "python",
   "name": "python3"
  },
  "language_info": {
   "codemirror_mode": {
    "name": "ipython",
    "version": 3
   },
   "file_extension": ".py",
   "mimetype": "text/x-python",
   "name": "python",
   "nbconvert_exporter": "python",
   "pygments_lexer": "ipython3",
   "version": "3.8.8"
  }
 },
 "nbformat": 4,
 "nbformat_minor": 5
}
